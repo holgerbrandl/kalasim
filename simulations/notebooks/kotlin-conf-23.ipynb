{
 "cells": [
  {
   "cell_type": "code",
   "execution_count": 2,
   "outputs": [],
   "source": [
    "import org.kalasim.*\n",
    "import org.kalasim.examples.elevator.Elevator"
   ],
   "metadata": {
    "collapsed": false,
    "ExecuteTime": {
     "end_time": "2023-04-14T18:55:40.533945900Z",
     "start_time": "2023-04-14T18:55:40.433846400Z"
    }
   }
  },
  {
   "cell_type": "markdown",
   "source": [
    "Instantiate the simulation model"
   ],
   "metadata": {
    "collapsed": false
   }
  },
  {
   "cell_type": "code",
   "execution_count": 3,
   "outputs": [],
   "source": [
    "val sim = Elevator(numCars = 4)"
   ],
   "metadata": {
    "collapsed": false,
    "ExecuteTime": {
     "end_time": "2023-04-14T18:55:41.043844800Z",
     "start_time": "2023-04-14T18:55:40.528017600Z"
    }
   }
  },
  {
   "cell_type": "markdown",
   "source": [
    "Run the simulation for 1 day (simulation not wall time :-)"
   ],
   "metadata": {
    "collapsed": false
   }
  },
  {
   "cell_type": "code",
   "execution_count": 4,
   "outputs": [],
   "source": [
    "sim.run(24.hours)\n"
   ],
   "metadata": {
    "collapsed": false,
    "ExecuteTime": {
     "end_time": "2023-04-14T18:55:41.454846600Z",
     "start_time": "2023-04-14T18:55:41.039845200Z"
    }
   }
  },
  {
   "cell_type": "markdown",
   "source": [
    "We can always render a json representation of of a simulation model:"
   ],
   "metadata": {
    "collapsed": false
   }
  },
  {
   "cell_type": "code",
   "execution_count": null,
   "outputs": [],
   "source": [
    "sim"
   ],
   "metadata": {
    "collapsed": false
   }
  },
  {
   "cell_type": "markdown",
   "source": [
    "## Study Statistic Properties"
   ],
   "metadata": {
    "collapsed": false
   }
  },
  {
   "cell_type": "code",
   "execution_count": null,
   "outputs": [],
   "source": [
    "import org.kalasim.plot.kravis.display\n",
    "\n",
    "//sim.floors.last().queue.queueLengthTimeline.display(\"ground floor timelime\")\n",
    "sim.cars[0].visitors.queueLengthTimeline.display(\"# visitors car 1\")"
   ],
   "metadata": {
    "collapsed": false
   }
  },
  {
   "cell_type": "code",
   "execution_count": null,
   "outputs": [],
   "source": [
    "sim.cars[0].visitors.statistics.lengthOfStayStats"
   ],
   "metadata": {
    "collapsed": false
   }
  },
  {
   "cell_type": "code",
   "execution_count": null,
   "outputs": [],
   "source": [
    "val avgQueueLength = sim.floors\n",
    "    .associateBy { it.queue.statistics.lengthStats.mean }\n",
    "    .toList()\n",
    "    .toDataFrame()\n",
    "\n",
    "avgQueueLength.take(5)\n"
   ],
   "metadata": {
    "collapsed": false
   }
  },
  {
   "cell_type": "code",
   "execution_count": null,
   "outputs": [],
   "source": [
    "avgQueueLength\n",
    "    .rename(\"first\" to \"avg-queue-length\", \"second\" to \"floor\")\n",
    "    .plot(y = \"floor\", x = \"avg-queue-length\")\n",
    "    .title(\"Mean Queue Length by Floor\")\n",
    "    .geomCol()"
   ],
   "metadata": {
    "collapsed": false
   }
  },
  {
   "cell_type": "code",
   "execution_count": null,
   "outputs": [],
   "source": [
    "// Let's Kotlin"
   ],
   "metadata": {
    "collapsed": false
   }
  }
 ],
 "metadata": {
  "kernelspec": {
   "display_name": "Kotlin",
   "language": "kotlin",
   "name": "kotlin"
  },
  "language_info": {
   "name": "kotlin",
   "version": "1.8.0",
   "mimetype": "text/x-kotlin",
   "file_extension": ".kt",
   "pygments_lexer": "kotlin",
   "codemirror_mode": "text/x-kotlin",
   "nbconvert_exporter": ""
  },
  "ktnbPluginMetadata": {
   "isBuildProject": true
  }
 },
 "nbformat": 4,
 "nbformat_minor": 0
}
