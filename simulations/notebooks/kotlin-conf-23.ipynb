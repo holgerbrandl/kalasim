{
 "cells": [
  {
   "cell_type": "code",
   "execution_count": null,
   "outputs": [],
   "source": [
    "import org.kalasim.*\n",
    "import org.kalasim.examples.elevator.Elevator"
   ],
   "metadata": {
    "collapsed": false,
    "ExecuteTime": {
     "end_time": "2023-04-14T06:42:00.384741400Z",
     "start_time": "2023-04-14T06:42:00.203738800Z"
    }
   }
  },
  {
   "cell_type": "markdown",
   "source": [
    "Instantiate the simulation model"
   ],
   "metadata": {
    "collapsed": false
   }
  },
  {
   "cell_type": "code",
   "execution_count": null,
   "outputs": [],
   "source": [
    "val sim = Elevator(numCars = 4)"
   ],
   "metadata": {
    "collapsed": false,
    "ExecuteTime": {
     "end_time": "2023-04-14T06:42:04.340365200Z",
     "start_time": "2023-04-14T06:42:04.255356600Z"
    }
   }
  },
  {
   "cell_type": "markdown",
   "source": [
    "Run the simulation for 1 day (simulation not wall time :-)"
   ],
   "metadata": {
    "collapsed": false
   }
  },
  {
   "cell_type": "code",
   "execution_count": null,
   "outputs": [],
   "source": [
    "sim.run(24.hours)\n"
   ],
   "metadata": {
    "collapsed": false,
    "ExecuteTime": {
     "end_time": "2023-04-14T06:42:09.653819200Z",
     "start_time": "2023-04-14T06:42:09.556832800Z"
    }
   }
  },
  {
   "cell_type": "markdown",
   "source": [
    "We can always render a json representation of of a simulation model:"
   ],
   "metadata": {
    "collapsed": false
   }
  },
  {
   "cell_type": "code",
   "execution_count": null,
   "outputs": [],
   "source": [
    "sim"
   ],
   "metadata": {
    "collapsed": false,
    "ExecuteTime": {
     "end_time": "2023-04-14T06:42:15.971880900Z",
     "start_time": "2023-04-14T06:42:15.908893500Z"
    }
   }
  },
  {
   "cell_type": "markdown",
   "source": [
    "## Study Statistic Properties"
   ],
   "metadata": {
    "collapsed": false
   }
  },
  {
   "cell_type": "code",
   "execution_count": null,
   "outputs": [],
   "source": [
    "import org.kalasim.plot.kravis.display\n",
    "\n",
    "//sim.floors.last().queue.queueLengthTimeline.display(\"ground floor timelime\")\n",
    "sim.cars[0].visitors.queueLengthTimeline.display(\"# visitors car 1\")"
   ],
   "metadata": {
    "collapsed": false,
    "ExecuteTime": {
     "end_time": "2023-04-14T06:42:27.384192800Z",
     "start_time": "2023-04-14T06:42:25.341615200Z"
    }
   }
  },
  {
   "cell_type": "code",
   "execution_count": null,
   "outputs": [],
   "source": [
    "sim.cars[0].visitors.statistics.lengthOfStayStats"
   ],
   "metadata": {
    "collapsed": false,
    "ExecuteTime": {
     "end_time": "2023-04-14T06:42:47.711255200Z",
     "start_time": "2023-04-14T06:42:47.641255600Z"
    }
   }
  },
  {
   "cell_type": "code",
   "execution_count": null,
   "outputs": [],
   "source": [
    "val avgQueueLength = sim.floors\n",
    "    .associateBy { it.queue.statistics.lengthStats.mean }\n",
    "    .toList()\n",
    "    .toDataFrame()\n",
    "\n",
    "avgQueueLength.take(5)\n"
   ],
   "metadata": {
    "collapsed": false,
    "ExecuteTime": {
     "end_time": "2023-04-14T06:43:13.876471600Z",
     "start_time": "2023-04-14T06:43:13.661474200Z"
    }
   }
  },
  {
   "cell_type": "code",
   "execution_count": null,
   "outputs": [],
   "source": [
    "avgQueueLength\n",
    "    .rename(\"first\" to \"avg-queue-length\", \"second\" to \"floor\")\n",
    "    .plot(y = \"floor\", x = \"avg-queue-length\")\n",
    "    .title(\"Mean Queue Length by Floor\")\n",
    "    .geomCol()"
   ],
   "metadata": {
    "collapsed": false,
    "ExecuteTime": {
     "end_time": "2023-04-14T06:43:30.144075800Z",
     "start_time": "2023-04-14T06:43:28.155206500Z"
    }
   }
  },
  {
   "cell_type": "code",
   "execution_count": null,
   "outputs": [],
   "source": [
    "// Let's Kotlin"
   ],
   "metadata": {
    "collapsed": false
   }
  }
 ],
 "metadata": {
  "kernelspec": {
   "display_name": "Kotlin",
   "language": "kotlin",
   "name": "kotlin"
  },
  "language_info": {
   "name": "kotlin",
   "version": "1.8.0",
   "mimetype": "text/x-kotlin",
   "file_extension": ".kt",
   "pygments_lexer": "kotlin",
   "codemirror_mode": "text/x-kotlin",
   "nbconvert_exporter": ""
  },
  "ktnbPluginMetadata": {
   "isBuildProject": true
  }
 },
 "nbformat": 4,
 "nbformat_minor": 0
}
