{
 "cells": [
  {
   "cell_type": "markdown",
   "source": [
    "# Elevator Simulation Analysis\n",
    "\n",
    "KotlinConf2023 Demo"
   ],
   "metadata": {
    "collapsed": false
   }
  },
  {
   "cell_type": "code",
   "execution_count": null,
   "metadata": {
    "collapsed": true,
    "ExecuteTime": {
     "start_time": "2023-04-13T16:00:15.152168Z",
     "end_time": "2023-04-13T16:00:15.493523Z"
    },
    "pycharm": {
     "is_executing": true
    }
   },
   "outputs": [],
   "source": [
    "//Commented out because should be not be needed, as the dependencies are pulled from the IJ project context\n",
    "//@file:Repository(\"*mavenLocal\")\n",
    "//@file:DependsOn(\"com.github.holgerbrandl:kalasim:0.8.101\")\n",
    "\n",
    "//%useLatestDescriptors on\n",
    "//%use kalasim(0.8.100)\n",
    "//%use kravis(0.8.5)\n"
   ]
  },
  {
   "cell_type": "code",
   "execution_count": 2,
   "outputs": [],
   "source": [
    "import org.kalasim.*\n",
    "import org.kalasim.examples.elevator.Elevator"
   ],
   "metadata": {
    "collapsed": false,
    "ExecuteTime": {
     "start_time": "2023-04-13T16:00:51.905329Z",
     "end_time": "2023-04-13T16:00:52.206100Z"
    }
   }
  },
  {
   "cell_type": "code",
   "execution_count": 3,
   "outputs": [
    {
     "data": {
      "text/plain": "Current classpath (30 paths):\nC:\\Users\\brandl\\AppData\\Local\\JetBrains\\IntelliJIdea2023.1\\kotlin-jupyter\\kernelProcess\\lib\\kotlinx-serialization-core-jvm-1.4.1.jar\nC:\\Users\\brandl\\AppData\\Local\\JetBrains\\IntelliJIdea2023.1\\kotlin-jupyter\\kernelProcess\\lib\\kotlin-jupyter-api-0.11.0-229.jar\nC:\\Users\\brandl\\AppData\\Local\\JetBrains\\IntelliJIdea2023.1\\kotlin-jupyter\\kernelProcess\\lib\\http4k-core-4.34.3.0.jar\nC:\\Users\\brandl\\AppData\\Local\\JetBrains\\IntelliJIdea2023.1\\kotlin-jupyter\\kernelProcess\\lib\\kotlin-jupyter-common-dependencies-0.11.0-229.jar\nC:\\Users\\brandl\\AppData\\Local\\JetBrains\\IntelliJIdea2023.1\\kotlin-jupyter\\kernelProcess\\lib\\httpclient5-5.2.1.jar\nC:\\Users\\brandl\\AppData\\Local\\JetBrains\\IntelliJIdea2023.1\\kotlin-jupyter\\kernelProcess\\lib\\annotations-13.0.jar\nC:\\Users\\brandl\\AppData\\Local\\JetBrains\\IntelliJIdea2023.1\\kotlin-jupyter\\kernelProcess\\lib\\httpcore5-h2-5.2.jar\nC:\\Users\\brandl\\AppData\\Local\\JetBrains\\IntelliJIdea2023.1\\kotlin-jupyter\\kernelProcess\\lib\\http4k-client-apache-4.34.3.0.jar\nC:\\Users\\brandl\\AppData\\Local\\JetBrains\\IntelliJIdea2023.1\\kotlin-jupyter\\kernelProcess\\lib\\kotlin-stdlib-jdk8-1.8.0.jar\nC:\\Users\\brandl\\AppData\\Local\\JetBrains\\IntelliJIdea2023.1\\kotlin-jupyter\\kernelProcess\\lib\\kotlin-stdlib-common-1.8.0.jar\nC:\\Users\\brandl\\AppData\\Local\\JetBrains\\IntelliJIdea2023.1\\kotlin-jupyter\\kernelProcess\\lib\\kotlin-stdlib-1.8.0.jar\nC:\\Users\\brandl\\AppData\\Local\\JetBrains\\IntelliJIdea2023.1\\kotlin-jupyter\\kernelProcess\\lib\\httpcore5-5.2.jar\nC:\\Users\\brandl\\AppData\\Local\\JetBrains\\IntelliJIdea2023.1\\kotlin-jupyter\\kernelProcess\\lib\\kotlin-stdlib-jdk7-1.8.0.jar\nC:\\Users\\brandl\\AppData\\Local\\JetBrains\\IntelliJIdea2023.1\\kotlin-jupyter\\kernelProcess\\lib\\kotlin-script-runtime-1.8.0.jar\nC:\\Users\\brandl\\AppData\\Local\\JetBrains\\IntelliJIdea2023.1\\kotlin-jupyter\\kernelProcess\\lib\\kotlinx-serialization-json-jvm-1.4.1.jar\nC:\\Users\\brandl\\AppData\\Local\\JetBrains\\IntelliJIdea2023.1\\kotlin-jupyter\\kernelProcess\\lib\\slf4j-api-1.7.36.jar\nC:\\Users\\brandl\\AppData\\Local\\JetBrains\\IntelliJIdea2023.1\\kotlin-jupyter\\kernelProcess\\lib\\kotlin-reflect-1.8.0.jar\nC:\\Users\\brandl\\AppData\\Local\\JetBrains\\IntelliJIdea2023.1\\kotlin-jupyter\\kernelProcess\\lib\\kotlin-jupyter-lib-0.11.0-229.jar\nD:\\projects\\scheduling\\kalasim\\out\\test\\resources\nD:\\projects\\scheduling\\kalasim\\modules\\animation\\out\\test\\resources\nD:\\projects\\scheduling\\kalasim\\out\\test\\classes\nD:\\projects\\scheduling\\kalasim\\out\\production\\classes\nD:\\projects\\scheduling\\kalasim\\modules\\animation\\out\\test\\classes\nD:\\projects\\scheduling\\kalasim\\modules\\animation\\out\\production\\classes\nD:\\projects\\scheduling\\kalasim\\simulations\\lunar-mining\\build\\classes\\kotlin\\main\nD:\\projects\\scheduling\\kalasim\\simulations\\lunar-mining\\build\\resources\\main\nD:\\projects\\scheduling\\kalasim\\modules\\optimization\\build\\classes\\java\\main\nD:\\projects\\scheduling\\kalasim\\modules\\optimization\\build\\classes\\kotlin\\main\nD:\\projects\\scheduling\\kalasim\\modules\\optimization\\build\\resources\\main\nD:\\projects\\scheduling\\kalasim\\modules\\sparksim\\build\\classes\\kotlin\\main"
     },
     "execution_count": 3,
     "metadata": {},
     "output_type": "execute_result"
    }
   ],
   "source": [
    ":classpath"
   ],
   "metadata": {
    "collapsed": false,
    "ExecuteTime": {
     "start_time": "2023-04-13T16:00:53.428658Z",
     "end_time": "2023-04-13T16:00:53.475657Z"
    }
   }
  },
  {
   "cell_type": "markdown",
   "source": [
    "Instantiate the simulation model:"
   ],
   "metadata": {
    "collapsed": false
   }
  },
  {
   "cell_type": "code",
   "execution_count": 5,
   "outputs": [
    {
     "name": "stderr",
     "output_type": "stream",
     "text": [
      "org/koin/core/component/KoinComponent\r\n",
      "java.lang.NoClassDefFoundError: org/koin/core/component/KoinComponent\r\n",
      "\tat java.base/java.lang.ClassLoader.defineClass1(Native Method)\r\n",
      "\tat java.base/java.lang.ClassLoader.defineClass(ClassLoader.java:1017)\r\n",
      "\tat java.base/java.security.SecureClassLoader.defineClass(SecureClassLoader.java:174)\r\n",
      "\tat java.base/java.net.URLClassLoader.defineClass(URLClassLoader.java:550)\r\n",
      "\tat java.base/java.net.URLClassLoader$1.run(URLClassLoader.java:458)\r\n",
      "\tat java.base/java.net.URLClassLoader$1.run(URLClassLoader.java:452)\r\n",
      "\tat java.base/java.security.AccessController.doPrivileged(Native Method)\r\n",
      "\tat java.base/java.net.URLClassLoader.findClass(URLClassLoader.java:451)\r\n",
      "\tat java.base/java.lang.ClassLoader.loadClass(ClassLoader.java:589)\r\n",
      "\tat java.base/java.lang.ClassLoader.loadClass(ClassLoader.java:522)\r\n",
      "\tat java.base/java.lang.ClassLoader.defineClass1(Native Method)\r\n",
      "\tat java.base/java.lang.ClassLoader.defineClass(ClassLoader.java:1017)\r\n",
      "\tat java.base/java.security.SecureClassLoader.defineClass(SecureClassLoader.java:174)\r\n",
      "\tat java.base/java.net.URLClassLoader.defineClass(URLClassLoader.java:550)\r\n",
      "\tat java.base/java.net.URLClassLoader$1.run(URLClassLoader.java:458)\r\n",
      "\tat java.base/java.net.URLClassLoader$1.run(URLClassLoader.java:452)\r\n",
      "\tat java.base/java.security.AccessController.doPrivileged(Native Method)\r\n",
      "\tat java.base/java.net.URLClassLoader.findClass(URLClassLoader.java:451)\r\n",
      "\tat java.base/java.lang.ClassLoader.loadClass(ClassLoader.java:589)\r\n",
      "\tat java.base/java.lang.ClassLoader.loadClass(ClassLoader.java:522)\r\n",
      "\tat java.base/java.lang.ClassLoader.defineClass1(Native Method)\r\n",
      "\tat java.base/java.lang.ClassLoader.defineClass(ClassLoader.java:1017)\r\n",
      "\tat java.base/java.security.SecureClassLoader.defineClass(SecureClassLoader.java:174)\r\n",
      "\tat java.base/java.net.URLClassLoader.defineClass(URLClassLoader.java:550)\r\n",
      "\tat java.base/java.net.URLClassLoader$1.run(URLClassLoader.java:458)\r\n",
      "\tat java.base/java.net.URLClassLoader$1.run(URLClassLoader.java:452)\r\n",
      "\tat java.base/java.security.AccessController.doPrivileged(Native Method)\r\n",
      "\tat java.base/java.net.URLClassLoader.findClass(URLClassLoader.java:451)\r\n",
      "\tat java.base/java.lang.ClassLoader.loadClass(ClassLoader.java:589)\r\n",
      "\tat java.base/java.lang.ClassLoader.loadClass(ClassLoader.java:576)\r\n",
      "\tat java.base/java.lang.ClassLoader.loadClass(ClassLoader.java:576)\r\n",
      "\tat java.base/java.lang.ClassLoader.loadClass(ClassLoader.java:576)\r\n",
      "\tat java.base/java.lang.ClassLoader.loadClass(ClassLoader.java:576)\r\n",
      "\tat java.base/java.lang.ClassLoader.loadClass(ClassLoader.java:576)\r\n",
      "\tat java.base/java.lang.ClassLoader.loadClass(ClassLoader.java:576)\r\n",
      "\tat java.base/java.lang.ClassLoader.loadClass(ClassLoader.java:522)\r\n",
      "\tat Line_4_jupyter.<init>(Line_4.jupyter.kts:13)\r\n",
      "\tat java.base/jdk.internal.reflect.NativeConstructorAccessorImpl.newInstance0(Native Method)\r\n",
      "\tat java.base/jdk.internal.reflect.NativeConstructorAccessorImpl.newInstance(NativeConstructorAccessorImpl.java:62)\r\n",
      "\tat java.base/jdk.internal.reflect.DelegatingConstructorAccessorImpl.newInstance(DelegatingConstructorAccessorImpl.java:45)\r\n",
      "\tat java.base/java.lang.reflect.Constructor.newInstance(Constructor.java:490)\r\n",
      "\tat kotlin.script.experimental.jvm.BasicJvmScriptEvaluator.evalWithConfigAndOtherScriptsResults(BasicJvmScriptEvaluator.kt:105)\r\n",
      "\tat kotlin.script.experimental.jvm.BasicJvmScriptEvaluator.invoke$suspendImpl(BasicJvmScriptEvaluator.kt:47)\r\n",
      "\tat kotlin.script.experimental.jvm.BasicJvmScriptEvaluator.invoke(BasicJvmScriptEvaluator.kt)\r\n",
      "\tat kotlin.script.experimental.jvm.BasicJvmReplEvaluator.eval(BasicJvmReplEvaluator.kt:49)\r\n",
      "\tat org.jetbrains.kotlinx.jupyter.repl.impl.InternalEvaluatorImpl$eval$resultWithDiagnostics$1.invokeSuspend(InternalEvaluatorImpl.kt:103)\r\n",
      "\tat kotlin.coroutines.jvm.internal.BaseContinuationImpl.resumeWith(ContinuationImpl.kt:33)\r\n",
      "\tat kotlinx.coroutines.DispatchedTask.run(DispatchedTask.kt:106)\r\n",
      "\tat kotlinx.coroutines.EventLoopImplBase.processNextEvent(EventLoop.common.kt:284)\r\n",
      "\tat kotlinx.coroutines.BlockingCoroutine.joinBlocking(Builders.kt:85)\r\n",
      "\tat kotlinx.coroutines.BuildersKt__BuildersKt.runBlocking(Builders.kt:59)\r\n",
      "\tat kotlinx.coroutines.BuildersKt.runBlocking(Unknown Source)\r\n",
      "\tat kotlinx.coroutines.BuildersKt__BuildersKt.runBlocking$default(Builders.kt:38)\r\n",
      "\tat kotlinx.coroutines.BuildersKt.runBlocking$default(Unknown Source)\r\n",
      "\tat org.jetbrains.kotlinx.jupyter.repl.impl.InternalEvaluatorImpl.eval(InternalEvaluatorImpl.kt:103)\r\n",
      "\tat org.jetbrains.kotlinx.jupyter.repl.impl.CellExecutorImpl$execute$1$result$1.invoke(CellExecutorImpl.kt:71)\r\n",
      "\tat org.jetbrains.kotlinx.jupyter.repl.impl.CellExecutorImpl$execute$1$result$1.invoke(CellExecutorImpl.kt:69)\r\n",
      "\tat org.jetbrains.kotlinx.jupyter.ReplForJupyterImpl.withHost(repl.kt:651)\r\n",
      "\tat org.jetbrains.kotlinx.jupyter.repl.impl.CellExecutorImpl.execute(CellExecutorImpl.kt:69)\r\n",
      "\tat org.jetbrains.kotlinx.jupyter.repl.CellExecutor$DefaultImpls.execute$default(CellExecutor.kt:15)\r\n",
      "\tat org.jetbrains.kotlinx.jupyter.ReplForJupyterImpl$evalEx$1.invoke(repl.kt:460)\r\n",
      "\tat org.jetbrains.kotlinx.jupyter.ReplForJupyterImpl$evalEx$1.invoke(repl.kt:449)\r\n",
      "\tat org.jetbrains.kotlinx.jupyter.ReplForJupyterImpl.withEvalContext(repl.kt:413)\r\n",
      "\tat org.jetbrains.kotlinx.jupyter.ReplForJupyterImpl.evalEx(repl.kt:449)\r\n",
      "\tat org.jetbrains.kotlinx.jupyter.ReplForJupyterImpl.eval(repl.kt:501)\r\n",
      "\tat org.jetbrains.kotlinx.jupyter.messaging.ProtocolKt$shellMessagesHandler$2$res$1.invoke(protocol.kt:318)\r\n",
      "\tat org.jetbrains.kotlinx.jupyter.messaging.ProtocolKt$shellMessagesHandler$2$res$1.invoke(protocol.kt:317)\r\n",
      "\tat org.jetbrains.kotlinx.jupyter.JupyterExecutorImpl$runExecution$execThread$1.invoke(execution.kt:33)\r\n",
      "\tat org.jetbrains.kotlinx.jupyter.JupyterExecutorImpl$runExecution$execThread$1.invoke(execution.kt:31)\r\n",
      "\tat kotlin.concurrent.ThreadsKt$thread$thread$1.run(Thread.kt:30)\r\n",
      "Caused by: java.lang.ClassNotFoundException: org.koin.core.component.KoinComponent\r\n",
      "\tat java.base/java.net.URLClassLoader.findClass(URLClassLoader.java:471)\r\n",
      "\tat java.base/java.lang.ClassLoader.loadClass(ClassLoader.java:589)\r\n",
      "\tat java.base/java.lang.ClassLoader.loadClass(ClassLoader.java:522)\r\n",
      "\t... 70 more\r\n"
     ]
    }
   ],
   "source": [
    "\n",
    "val sim = Elevator()\n",
    "\n"
   ],
   "metadata": {
    "collapsed": false
   }
  },
  {
   "cell_type": "markdown",
   "source": [
    "Run the simulation for 1 hour (simulation not wall time :-)"
   ],
   "metadata": {
    "collapsed": false
   }
  },
  {
   "cell_type": "code",
   "execution_count": null,
   "outputs": [],
   "source": [
    "sim.run(1.hours)"
   ],
   "metadata": {
    "collapsed": false
   }
  },
  {
   "cell_type": "code",
   "execution_count": null,
   "outputs": [],
   "source": [
    "//print summary\n",
    "println(\"Floor    n         Length Length_of_stay\")\n",
    "\n",
    "elevator.floors.forEach {\n",
    "    it.let {\n",
    "        println(\n",
    "            \"%5d%5d%15.3f%15.3f\".format(\n",
    "                it.level,\n",
    "                it.queue.lengthOfStayStatistics.statistics().n,\n",
    "                it.queue.queueLengthTimeline.statistics().mean,\n",
    "                it.queue.lengthOfStayStatistics.statistics().mean\n",
    "            )\n",
    "        )\n",
    "    }\n",
    "}"
   ],
   "metadata": {
    "collapsed": false
   }
  },
  {
   "cell_type": "code",
   "execution_count": null,
   "outputs": [],
   "source": [
    "// redo with data-frame API\n",
    "elevator.floors\n"
   ],
   "metadata": {
    "collapsed": false
   }
  }
 ],
 "metadata": {
  "kernelspec": {
   "display_name": "Kotlin",
   "language": "kotlin",
   "name": "kotlin"
  },
  "language_info": {
   "name": "kotlin",
   "version": "1.8.0",
   "mimetype": "text/x-kotlin",
   "file_extension": ".kt",
   "pygments_lexer": "kotlin",
   "codemirror_mode": "text/x-kotlin",
   "nbconvert_exporter": ""
  }
 },
 "nbformat": 4,
 "nbformat_minor": 0
}
