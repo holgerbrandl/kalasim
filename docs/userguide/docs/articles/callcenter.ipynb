{
 "cells": [
  {
   "cell_type": "markdown",
   "metadata": {},
   "source": [
    "# Call Center\n",
    "\n",
    "\n",
    "Resource planning is the bread and butter of any sucessful business.\n",
    "\n",
    "The following use-case is adopted from the [simmer mailing list](https://groups.google.com/g/simmer-devel/c/gsr6F7CJQf8/m/euW1ZaU0DAAJ)\n",
    "\n",
    "Let's assume a customer service chat support, where the arrivals are requests from customers and the resources will have to respond to those messages. The process works as such: \n",
    "\n",
    "* The requests arrive throughout the day, but should join a pooled queue to wait for an available responder. \n",
    "* The responders are available in two shifts, excluding weekends; ideally the two shifts should not have individual queues, since there is already a pooled queue\n",
    "* If a responder from Shift A is working on a ticket but is about to end their shift, they will turnover the message that their working on to Shift B.\n",
    "* Shifts A and B will have different capacities \n",
    "\n",
    "Except for weekends, since there are no available shifts, so it will be worked on by the first available responder the following week.\n",
    "\n",
    "## Shift System\n",
    "\n",
    "In particular choosing a shift model & shift capacity planning are key for many sucessful business operations. Because of complex dynamics and interplay, it's often very hard to work out the capacity and bottlenecks in such systems on paper.\n",
    "\n",
    "Let's try to model the process described above using kalasim. First, we load the library and import the core functions with"
   ]
  },
  {
   "cell_type": "code",
   "execution_count": 1,
   "metadata": {
    "ExecuteTime": {
     "end_time": "2023-10-30T07:13:41.186682500Z",
     "start_time": "2023-10-30T07:13:36.218316600Z"
    }
   },
   "outputs": [
    {
     "data": {
      "text/html": "            <div id=\"kotlin_out_0\"></div>\n            <script type=\"text/javascript\">\n                            if(!window.kotlinQueues) {\n                window.kotlinQueues = {};\n            }\n            if(!window.kotlinQueues[\"DataFrame\"]) {\n                var resQueue = [];\n                window.kotlinQueues[\"DataFrame\"] = resQueue;\n                window[\"call_DataFrame\"] = function(f) {\n                    resQueue.push(f);\n                }\n            }\n            (function (){\n                var modifiers = [(function(script) {\n    script.src = \"https://cdn.jsdelivr.net/gh/Kotlin/dataframe@3db46ccccaa1291c0627307d64133317f545e6ae/core/src/main/resources/init.js\"\n    script.type = \"text/javascript\";\n})];\n                var e = document.getElementById(\"kotlin_out_0\");\n                modifiers.forEach(function (gen) {\n                    var script = document.createElement(\"script\");\n                    gen(script)\n                    script.addEventListener(\"load\", function() {\n                        window[\"call_DataFrame\"] = function(f) {f();};\n                        window.kotlinQueues[\"DataFrame\"].forEach(function(f) {f();});\n                        window.kotlinQueues[\"DataFrame\"] = [];\n                    }, false);\n                    script.addEventListener(\"error\", function() {\n                        window[\"call_DataFrame\"] = function(f) {};\n                        window.kotlinQueues[\"DataFrame\"] = [];\n                        var div = document.createElement(\"div\");\n                        div.style.color = 'darkred';\n                        div.textContent = 'Error loading resource DataFrame';\n                        document.getElementById(\"kotlin_out_0\").appendChild(div);\n                    }, false);\n                    \n                    e.appendChild(script);\n                });\n            })();\n            </script>"
     },
     "metadata": {},
     "output_type": "display_data"
    },
    {
     "data": {
      "text/html": "                <style>\n                :root {\n    --background: #fff;\n    --background-odd: #f5f5f5;\n    --background-hover: #d9edfd;\n    --header-text-color: #474747;\n    --text-color: #848484;\n    --text-color-dark: #000;\n    --text-color-medium: #737373;\n    --text-color-pale: #b3b3b3;\n    --inner-border-color: #aaa;\n    --bold-border-color: #000;\n    --link-color: #296eaa;\n    --link-color-pale: #296eaa;\n    --link-hover: #1a466c;\n}\n\n:root[theme=\"dark\"], :root [data-jp-theme-light=\"false\"], .dataframe_dark{\n    --background: #303030;\n    --background-odd: #3c3c3c;\n    --background-hover: #464646;\n    --header-text-color: #dddddd;\n    --text-color: #b3b3b3;\n    --text-color-dark: #dddddd;\n    --text-color-medium: #b2b2b2;\n    --text-color-pale: #737373;\n    --inner-border-color: #707070;\n    --bold-border-color: #777777;\n    --link-color: #008dc0;\n    --link-color-pale: #97e1fb;\n    --link-hover: #00688e;\n}\n\np.dataframe_description {\n    color: var(--text-color-dark);\n}\n\ntable.dataframe {\n    font-family: \"Helvetica Neue\", Helvetica, Arial, sans-serif;\n    font-size: 12px;\n    background-color: var(--background);\n    color: var(--text-color-dark);\n    border: none;\n    border-collapse: collapse;\n}\n\ntable.dataframe th, td {\n    padding: 6px;\n    border: 1px solid transparent;\n    text-align: left;\n}\n\ntable.dataframe th {\n    background-color: var(--background);\n    color: var(--header-text-color);\n}\n\ntable.dataframe td {\n    vertical-align: top;\n}\n\ntable.dataframe th.bottomBorder {\n    border-bottom-color: var(--bold-border-color);\n}\n\ntable.dataframe tbody > tr:nth-child(odd) {\n    background: var(--background-odd);\n}\n\ntable.dataframe tbody > tr:nth-child(even) {\n    background: var(--background);\n}\n\ntable.dataframe tbody > tr:hover {\n    background: var(--background-hover);\n}\n\ntable.dataframe a {\n    cursor: pointer;\n    color: var(--link-color);\n    text-decoration: none;\n}\n\ntable.dataframe tr:hover > td a {\n    color: var(--link-color-pale);\n}\n\ntable.dataframe a:hover {\n    color: var(--link-hover);\n    text-decoration: underline;\n}\n\ntable.dataframe img {\n    max-width: fit-content;\n}\n\ntable.dataframe th.complex {\n    background-color: var(--background);\n    border: 1px solid var(--background);\n}\n\ntable.dataframe .leftBorder {\n    border-left-color: var(--inner-border-color);\n}\n\ntable.dataframe .rightBorder {\n    border-right-color: var(--inner-border-color);\n}\n\ntable.dataframe .rightAlign {\n    text-align: right;\n}\n\ntable.dataframe .expanderSvg {\n    width: 8px;\n    height: 8px;\n    margin-right: 3px;\n}\n\ntable.dataframe .expander {\n    display: flex;\n    align-items: center;\n}\n\n/* formatting */\n\ntable.dataframe .null {\n    color: var(--text-color-pale);\n}\n\ntable.dataframe .structural {\n    color: var(--text-color-medium);\n    font-weight: bold;\n}\n\ntable.dataframe .dataFrameCaption {\n    font-weight: bold;\n}\n\ntable.dataframe .numbers {\n    color: var(--text-color-dark);\n}\n\ntable.dataframe td:hover .formatted .structural, .null {\n    color: var(--text-color-dark);\n}\n\ntable.dataframe tr:hover .formatted .structural, .null {\n    color: var(--text-color-dark);\n}\n\n\n                </style>"
     },
     "metadata": {},
     "output_type": "display_data"
    }
   ],
   "source": [
    "@file:Repository(\"*mavenLocal\")\n",
    "\n",
    "%useLatestDescriptors on\n",
    "//%use kalasim(0.12-SNAPSHOT)\n",
    "@file:DependsOn(\"com.github.holgerbrandl:kalasim:0.12-SNAPSHOT\")\n",
    "\n"
   ]
  },
  {
   "cell_type": "markdown",
   "metadata": {
    "pycharm": {
     "name": "#%% md\n"
    }
   },
   "source": [
    "**Note**: Notebook execution is currently blocked by https://github.com/Kotlin/kotlin-jupyter/issues/355\n",
    "\n",
    "Next, we work out the model\n",
    "* Shifts are modelled as enums\n",
    "* The shift system is modelled using a [sequence builder](https://kotlinlang.org/docs/sequences.html)\n",
    "* Requests are modelled as `Component` to add the it to the request queue\n",
    "* The buisness process is modelled as component as well\n",
    "* All entities are bound into a simulation of type `CallCenter` for easy experimentation"
   ]
  },
  {
   "cell_type": "code",
   "execution_count": 2,
   "metadata": {
    "ExecuteTime": {
     "end_time": "2023-10-30T07:13:48.306313500Z",
     "start_time": "2023-10-30T07:13:47.652916500Z"
    }
   },
   "outputs": [
    {
     "name": "stderr",
     "output_type": "stream",
     "text": [
      "Line_4.jupyter.kts (47:99 - 108) Type mismatch: inferred type is Boolean but SimTime /* = Instant */ was expected\n",
      "Line_4.jupyter.kts (54:9 - 27) This API is not recommended as the duration unit is not specified. Remove any doubt by adding .minutes, .hours, .days accordingly. The default duration unit of a simulation environment is MINUTES."
     ]
    }
   ],
   "source": [
    "import kotlin.math.roundToInt\n",
    "\n",
    "\n",
    "enum class ShiftID { A, B, WeekEnd }\n",
    "\n",
    "val shiftModel = sequence {\n",
    "    while(true) {\n",
    "        repeat(5) { yield(ShiftID.A); yield(ShiftID.B) }\n",
    "        yield(ShiftID.WeekEnd)\n",
    "    }\n",
    "}\n",
    "\n",
    "\n",
    "// model requests with static duration for now once they got hold of an operator\n",
    "class Request : Component() {\n",
    "    val callCenter = get<Resource>()\n",
    "\n",
    "    override fun process() = sequence {\n",
    "        request(callCenter, capacityLimitMode = CapacityLimitMode.SCHEDULE) {\n",
    "            hold(1.minutes)\n",
    "        }\n",
    "    }\n",
    "}\n",
    "\n",
    "open class ShiftManager : Component() {\n",
    "    val shiftIt = shiftModel.iterator()\n",
    "    val callCenter = get<Resource>()\n",
    "\n",
    "    override fun repeatedProcess() = sequence {\n",
    "        val currentShift = shiftIt.next()\n",
    "\n",
    "        log(\"starting new shift ${currentShift}\")\n",
    "\n",
    "        // adjust shift capacity at the beginning of the shift\n",
    "        callCenter.capacity = when(currentShift) {\n",
    "            ShiftID.A -> 2.0\n",
    "            ShiftID.B -> 8.0\n",
    "            ShiftID.WeekEnd -> 0.0\n",
    "        }\n",
    "\n",
    "        // wait for end of shift\n",
    "        hold(if(currentShift == ShiftID.WeekEnd) 48.hours else 12.hours)\n",
    "    }\n",
    "}\n",
    "\n",
    "\n",
    "abstract class CallCenter(val arrivalRate: Double = 0.3, logEvents: Boolean = true) : Environment(logEvents) {\n",
    "    // not defined at this point\n",
    "    abstract val shiftManager : ShiftManager\n",
    "\n",
    "    val callCenter = dependency { Resource(\"Call Center\") }\n",
    "\n",
    "    init{\n",
    "        ComponentGenerator(iat = exponential(arrivalRate)){ Request() }\n",
    "    }\n",
    "}\n",
    "\n",
    "\n",
    "val sim =  object : CallCenter() {\n",
    "    override val shiftManager = ShiftManager()\n",
    "}"
   ]
  },
  {
   "cell_type": "markdown",
   "metadata": {},
   "source": [
    "Let's run the unit for 1000 hours"
   ]
  },
  {
   "cell_type": "code",
   "execution_count": null,
   "metadata": {},
   "outputs": [],
   "source": [
    "sim.run(600)"
   ]
  },
  {
   "cell_type": "markdown",
   "metadata": {},
   "source": [
    "To understand the dynamics of the model we could now try inpspecting its progression. First we check out the queue length"
   ]
  },
  {
   "cell_type": "code",
   "execution_count": null,
   "metadata": {},
   "outputs": [],
   "source": [
    "import org.kalasim.plot.kravis.display\n",
    "\n",
    "sim.callCenter.requesters.queueLengthTimeline.display()\n"
   ]
  },
  {
   "cell_type": "markdown",
   "metadata": {
    "pycharm": {
     "name": "#%% md\n"
    }
   },
   "source": [
    "![](img.png)"
   ]
  },
  {
   "cell_type": "markdown",
   "metadata": {},
   "source": [
    "## Shift Handover Precision\n",
    "\n",
    "Clearly, this first version has the limitation, that tasks that overlap with a shift-change, do not immediately respect changes in capacity. That is, when changing from a shift with high to a shift with less capacity, ongoing tasks will be completed irrespective of the reduced capacity.\n",
    "\n",
    "It's not straightforward to cancel these tasks to request them again in the next shift. This is because, a `release()` will - by design - check if new requests could be honored. So ongoing claims could be released easily, but requesting them again - even with higher priority - will cause them to be processed slightly after the immediatly honored request queue sucessors.\n",
    "\n",
    "To solve the problem elegantly, we can use two other interactions namely `interrupt()` and `standby()`. With `interrupt()` we stop all ongoing tasks at a shift change. With `standby()` we can schedule process continauation in the next simulation cycle.\n",
    "\n",
    "For the revised model we just need to model another `ShiftManager` with our revised hand-over process:"
   ]
  },
  {
   "cell_type": "code",
   "execution_count": null,
   "metadata": {},
   "outputs": [],
   "source": [
    "\n",
    "class InterruptingShiftManager: ShiftManager() {\n",
    "    override fun repeatedProcess() = sequence {\n",
    "        val currentShift = shiftIt.next()\n",
    "\n",
    "        log(\"starting new shift $currentShift\")\n",
    "\n",
    "        // adjust shift capacity at the beginning of the shift\n",
    "        callCenter.capacity = when(currentShift) {\n",
    "            ShiftID.A -> 2.0\n",
    "            ShiftID.B -> 8.0\n",
    "            ShiftID.WeekEnd -> 0.0\n",
    "        }\n",
    "\n",
    "        // complete hangover calls from previous shift\n",
    "        fun shiftLegacy() = callCenter.claimers.components.filter { it.isInterrupted }\n",
    "\n",
    "        // incrementally resume interrupted tasks while respecting new capacity\n",
    "        while(shiftLegacy().isNotEmpty() && callCenter.capacity > 0) {\n",
    "            val numRunning = callCenter.claimers.components.count { it.isScheduled }\n",
    "            val spareCapacity = kotlin.math.max(0, callCenter.capacity.roundToInt() - numRunning)\n",
    "\n",
    "            // resume interrupted tasks from last shift to max out new capacity\n",
    "            shiftLegacy().take(spareCapacity).forEach { it.resume() }\n",
    "\n",
    "            standby()\n",
    "        }\n",
    "\n",
    "        // wait for end of shift\n",
    "        hold(if(currentShift == ShiftID.WeekEnd) 48.hours else 12.hours)\n",
    "\n",
    "        // stop and reschedule the ongoing tasks\n",
    "        callCenter.claimers.components.forEach {\n",
    "            // detect remaining task time and request this with high prio so\n",
    "            // that these tasks are picked up next in the upcoming shift\n",
    "            it.interrupt()\n",
    "        }\n",
    "    }\n",
    "}\n"
   ]
  },
  {
   "cell_type": "markdown",
   "metadata": {},
   "source": [
    "We can now instantiate a new call center with the improved hand-over process"
   ]
  },
  {
   "cell_type": "code",
   "execution_count": null,
   "metadata": {},
   "outputs": [],
   "source": [
    "val intSim = object: CallCenter() {\n",
    "    override val shiftManager = InterruptingShiftManager()\n",
    "}\n",
    " \n",
    "intSim.run(600)\n",
    "\n",
    "intSim.callCenter.requesters.queueLengthTimeline\n",
    "    .display(\"Request queue length with revised handover process\")\n"
   ]
  },
  {
   "attachments": {},
   "cell_type": "markdown",
   "metadata": {},
   "source": [
    "![](img_1.png)"
   ]
  },
  {
   "cell_type": "markdown",
   "metadata": {},
   "source": [
    "Noteably, this model has the almost the same dynamics, but is more correct during shift handover."
   ]
  }
 ],
 "metadata": {
  "kernelspec": {
   "display_name": "Kotlin",
   "language": "kotlin",
   "name": "kotlin"
  },
  "language_info": {
   "codemirror_mode": "text/x-kotlin",
   "file_extension": ".kt",
   "mimetype": "text/x-kotlin",
   "name": "kotlin",
   "nbconvert_exporter": "",
   "pygments_lexer": "kotlin",
   "version": "1.6.20-dev-6372"
  }
 },
 "nbformat": 4,
 "nbformat_minor": 4
}
