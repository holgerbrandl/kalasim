{
 "cells": [
  {
   "cell_type": "markdown",
   "metadata": {},
   "source": [
    "# Call Center\n",
    "\n",
    "\n",
    "Resource planning is the bread and butter of any sucessful business.\n",
    "\n",
    "The following use-case is adopted from the [simmer mailing list](https://groups.google.com/g/simmer-devel/c/gsr6F7CJQf8/m/euW1ZaU0DAAJ)\n",
    "\n",
    "Let's assume a customer service chat support, where the arrivals are requests from customers and the resources will have to respond to those messages. The process works as such: \n",
    "\n",
    "* The requests arrive throughout the day, but should join a pooled queue to wait for an available responder. \n",
    "* The responders are available in two shifts, excluding weekends; ideally the two shifts should not have individual queues, since there is already a pooled queue\n",
    "* If a responder from Shift A is working on a ticket but is about to end their shift, they will turnover the message that their working on to Shift B.\n",
    "* Shifts A and B will have different capacities \n",
    "\n",
    "Except for weekends, since there are no available shifts, so it will be worked on by the first available responder the following week.\n",
    "\n",
    "## Shift System\n",
    "\n",
    "In particular shift capacity planning is key for many sucessful business operations. Because of dynamics and interplay, it's often very hard to work out the capacity and bottlnecks in such system.\n",
    "\n",
    "Let's try to model the process described above using kalasim. First we load the library and import the core functions"
   ]
  },
  {
   "cell_type": "code",
   "execution_count": null,
   "metadata": {},
   "outputs": [],
   "source": [
    "@file:Repository(\"*mavenLocal\")\n",
    "\n",
    "%useLatestDescriptors on\n",
    "%use kalasim(0.7.95)\n"
   ]
  },
  {
   "cell_type": "markdown",
   "metadata": {
    "pycharm": {
     "name": "#%% md\n"
    }
   },
   "source": [
    "**Note**: Notebook execution is currently blocked by https://github.com/Kotlin/kotlin-jupyter/issues/355"
   ]
  },
  {
   "cell_type": "code",
   "execution_count": null,
   "metadata": {},
   "outputs": [],
   "source": [
    "import kotlin.math.roundToInt\n",
    "\n",
    "\n",
    "enum class ShiftID { A, B, WeekEnd }\n",
    "\n",
    "val shiftModel = sequence {\n",
    "    while(true) {\n",
    "        repeat(5) { yield(ShiftID.A); yield(ShiftID.B) }\n",
    "        yield(ShiftID.WeekEnd)\n",
    "    }\n",
    "}\n",
    "\n",
    "\n",
    "// model requests with static duration for now once they got hold of an operator\n",
    "class Request : Component() {\n",
    "    val callCenter = get<Resource>()\n",
    "\n",
    "    override fun process() = sequence {\n",
    "        request(callCenter, capacityLimitMode = CapacityLimitMode.SCHEDULE) {\n",
    "            hold(1)\n",
    "        }\n",
    "    }\n",
    "}\n",
    "\n",
    "open class ShiftManager : Component() {\n",
    "    val shiftIt = shiftModel.iterator()\n",
    "    val callCenter = get<Resource>()\n",
    "\n",
    "    override fun repeatedProcess() = sequence {\n",
    "        val currentShift = shiftIt.next()\n",
    "\n",
    "        log(\"starting new shift ${currentShift}\")\n",
    "\n",
    "        // adjust shift capacity at the beginning of the shift\n",
    "        callCenter.capacity = when(currentShift) {\n",
    "            ShiftID.A -> 2.0\n",
    "            ShiftID.B -> 8.0\n",
    "            ShiftID.WeekEnd -> 0.0\n",
    "        }\n",
    "\n",
    "        // wait for end of shift\n",
    "        hold(if(currentShift == ShiftID.WeekEnd) 48 else 12)\n",
    "    }\n",
    "}\n",
    "\n",
    "\n",
    "abstract class CallCenter(val arrivalRate: Double = 0.3, logEvents: Boolean = true) : Environment(logEvents) {\n",
    "    // not defined at this point\n",
    "    abstract val shiftManager : ShiftManager\n",
    "\n",
    "    val callCenter = dependency { Resource(\"Call Center\") }\n",
    "\n",
    "    init{\n",
    "        ComponentGenerator(iat = exponential(arrivalRate)){ Request() }\n",
    "    }\n",
    "}\n",
    "\n",
    "\n",
    "val sim =  object : CallCenter() {\n",
    "    override val shiftManager = ShiftManager()\n",
    "}"
   ]
  },
  {
   "cell_type": "markdown",
   "metadata": {},
   "source": [
    "Let's run the unit for 1000 hours"
   ]
  },
  {
   "cell_type": "code",
   "execution_count": null,
   "metadata": {},
   "outputs": [],
   "source": [
    "sim.run(600)"
   ]
  },
  {
   "cell_type": "markdown",
   "metadata": {},
   "source": [
    "To understand the dynamics of the model we could now try inpspecting its progression. First we check out the queue length"
   ]
  },
  {
   "cell_type": "code",
   "execution_count": null,
   "metadata": {},
   "outputs": [],
   "source": [
    "import org.kalasim.plot.kravis.display\n",
    "\n",
    "sim.callCenter.requesters.queueLengthTimeline.display()\n"
   ]
  },
  {
   "cell_type": "markdown",
   "metadata": {},
   "source": [
    "## Shift Handover Precision\n",
    "Clearly, the first version has the limitation, that tasks that overlap with a shift-change, do not immediately respect changes in capacity. That is when changing into a shift with less capacity, ongoing tasks will be completed, before the \n",
    "\n",
    "It's not straightforward to cancel these tasks to request them again in the next shift. This is because, a `release()` does - by design - alreadu will check if new requests could be honored. So ongoing claims could be released easily, but requesting them again - even with higher priority - will cause them to be processed after the immediatly honored sucessors.\n",
    "\n",
    "To solve the problem elegantly, we can use two other interactions namely `interrupt()` and `standby()`. With `interrupt()` we stop all ongoing tasks at a shift change. With `standby()` we can schedule process continauation in the next simulation cycle.\n",
    "\n",
    "For the revised model we just need to create another `ShiftManager` with our revised hand-over process:"
   ]
  },
  {
   "cell_type": "code",
   "execution_count": null,
   "metadata": {},
   "outputs": [],
   "source": [
    "\n",
    "class InterruptingShiftManager: ShiftManager() {\n",
    "    override fun repeatedProcess() = sequence {\n",
    "        val currentShift = shiftIt.next()\n",
    "\n",
    "        log(\"starting new shift $currentShift\")\n",
    "\n",
    "        // adjust shift capacity at the beginning of the shift\n",
    "        callCenter.capacity = when(currentShift) {\n",
    "            ShiftID.A -> 2.0\n",
    "            ShiftID.B -> 8.0\n",
    "            ShiftID.WeekEnd -> 0.0\n",
    "        }\n",
    "\n",
    "        // complete hangover calls from previous shift\n",
    "        fun shiftLegacy() = callCenter.claimers.components.filter { it.isInterrupted }\n",
    "\n",
    "        // incrementally resume interrupted tasks while respecting new capacity\n",
    "        while(shiftLegacy().isNotEmpty() && callCenter.capacity > 0) {\n",
    "            val numRunning = callCenter.claimers.components.count { it.isScheduled }\n",
    "            val spareCapacity = kotlin.math.max(0, callCenter.capacity.roundToInt() - numRunning)\n",
    "\n",
    "            // resume interrupted tasks from last shift to max out new capacity\n",
    "            shiftLegacy().take(spareCapacity).forEach { it.resume() }\n",
    "\n",
    "            standby()\n",
    "        }\n",
    "\n",
    "        // wait for end of shift\n",
    "        hold(if(currentShift == ShiftID.WeekEnd) 48 else 12)\n",
    "\n",
    "        // stop and reschedule the ongoing tasks\n",
    "        callCenter.claimers.components.forEach {\n",
    "            // detect remaining task time and request this with high prio so\n",
    "            // that these tasks are picked up next in the upcoming shift\n",
    "            it.interrupt()\n",
    "        }\n",
    "    }\n",
    "}\n"
   ]
  },
  {
   "cell_type": "code",
   "execution_count": null,
   "metadata": {},
   "outputs": [],
   "source": [
    "val intSim = object: CallCenter() {\n",
    "    override val shiftManager = InterruptingShiftManager()\n",
    "}\n",
    " \n",
    "intSim.run(600)\n",
    "\n",
    "intSim.callCenter.requesters.queueLengthTimeline.display()\n"
   ]
  },
  {
   "cell_type": "code",
   "execution_count": null,
   "metadata": {},
   "outputs": [],
   "source": []
  }
 ],
 "metadata": {
  "kernelspec": {
   "display_name": "Kotlin",
   "language": "kotlin",
   "name": "kotlin"
  },
  "language_info": {
   "codemirror_mode": "text/x-kotlin",
   "file_extension": ".kt",
   "mimetype": "text/x-kotlin",
   "name": "kotlin",
   "nbconvert_exporter": "",
   "pygments_lexer": "kotlin",
   "version": "1.6.20-dev-6372"
  }
 },
 "nbformat": 4,
 "nbformat_minor": 4
}