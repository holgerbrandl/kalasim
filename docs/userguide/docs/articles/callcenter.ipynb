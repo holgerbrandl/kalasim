{
 "cells": [
  {
   "cell_type": "code",
   "execution_count": 1,
   "metadata": {},
   "outputs": [],
   "source": [
    "@file:Repository(\"*mavenLocal\")\n",
    "\n",
    "%useLatestDescriptors on\n",
    "\n",
    "%use kalasim(0.7.95)\n",
    "\n",
    "import org.kalasim.*\n",
    "import org.kalasim.plot.kravis.display\n",
    "import kotlin.math.max\n",
    "import kotlin.math.roundToInt\n"
   ]
  },
  {
   "cell_type": "code",
   "execution_count": 2,
   "metadata": {},
   "outputs": [],
   "source": [
    "// :classpath"
   ]
  },
  {
   "cell_type": "markdown",
   "source": [
    "Notebook implementatio blocked by https://github.com/Kotlin/kotlin-jupyter/issues/355"
   ],
   "metadata": {
    "collapsed": false,
    "pycharm": {
     "name": "#%% md\n"
    }
   }
  },
  {
   "cell_type": "code",
   "execution_count": 7,
   "metadata": {},
   "outputs": [],
   "source": [
    "\n",
    "sealed class ShiftID\n",
    "\n",
    "object A : ShiftID()\n",
    "object B : ShiftID()\n",
    "object WeekEnd : ShiftID()\n",
    "\n",
    "val shiftModel = sequence {\n",
    "    while(true) {\n",
    "        repeat(5) { yield(A); yield(B) }\n",
    "        yield(WeekEnd)\n",
    "    }\n",
    "}\n",
    "\n",
    "\n",
    "// model requests with static duration for now once they got hold of an operator\n",
    "class Request : Component() {\n",
    "    val callCenter = get<Resource>()\n",
    "\n",
    "    override fun process() = sequence {\n",
    "        request(callCenter, capacityLimitMode = CapacityLimitMode.SCHEDULE) {\n",
    "            hold(1)\n",
    "        }\n",
    "    }\n",
    "}\n",
    "\n",
    "open class ShiftManager : Component() {\n",
    "    val shiftIt = shiftModel.iterator()\n",
    "    val callCenter = get<Resource>()\n",
    "\n",
    "    override fun repeatedProcess() = sequence {\n",
    "        val currentShift = shiftIt.next()\n",
    "\n",
    "        log(\"starting new shift ${currentShift}\")\n",
    "\n",
    "        // adjust shift capacity at the beginning of the shift\n",
    "        callCenter.capacity = when(currentShift) {\n",
    "            A -> 2.0\n",
    "            B -> 8.0\n",
    "            WeekEnd -> 0.0\n",
    "            else -> TODO()\n",
    "        }\n",
    "\n",
    "        // wait for end of shift\n",
    "        hold(if(currentShift == WeekEnd) 48 else 12)\n",
    "    }\n",
    "}\n",
    "\n",
    "abstract class CallCenter(val arrivalRate: Double = 0.3, logEvents: Boolean = true) : Environment(logEvents) {\n",
    "\n",
    "    // not defined at this point\n",
    "    abstract val shiftManager : ShiftManager\n",
    "\n",
    "    val callCenter = dependency { Resource(\"Call Center\") }\n",
    "\n",
    "    init{\n",
    "        ComponentGenerator(iat = exponential(arrivalRate)){ Request() }\n",
    "    }\n",
    "}\n",
    "\n",
    "class InterruptingShiftManager: ShiftManager() {\n",
    "    override fun repeatedProcess() = sequence {\n",
    "        val currentShift = shiftIt.next()\n",
    "\n",
    "        log(\"starting new shift $currentShift\")\n",
    "\n",
    "        // adjust shift capacity at the beginning of the shift\n",
    "        callCenter.capacity = when(currentShift) {\n",
    "            A -> 2.0\n",
    "            B -> 8.0\n",
    "            WeekEnd -> 0.0\n",
    "            else -> TODO()\n",
    "        }\n",
    "\n",
    "        // complete hangover calls from previous shift\n",
    "        fun shiftLegacy() = callCenter.claimers.components.filter { it.isInterrupted }\n",
    "\n",
    "        // incrementally resume interrupted tasks while respecting new capacity\n",
    "        while(shiftLegacy().isNotEmpty() && callCenter.capacity > 0) {\n",
    "            val numRunning = callCenter.claimers.components.count { it.isScheduled }\n",
    "            val spareCapacity = max(0, callCenter.capacity.roundToInt() - numRunning)\n",
    "\n",
    "            // resume interrupted tasks from last shift to max out new capacity\n",
    "            shiftLegacy().take(spareCapacity).forEach { it.resume() }\n",
    "\n",
    "            standby()\n",
    "        }\n",
    "\n",
    "        // wait for end of shift\n",
    "        hold(if(currentShift == WeekEnd) 48 else 12)\n",
    "\n",
    "        // stop and reschedule the ongoing tasks\n",
    "        callCenter.claimers.components.forEach {\n",
    "            // detect remaining task time and request this with high prio so\n",
    "            // that these tasks are picked up next in the upcoming shift\n",
    "            it.interrupt()\n",
    "        }\n",
    "    }\n",
    "}\n"
   ]
  },
  {
   "cell_type": "code",
   "execution_count": null,
   "metadata": {},
   "outputs": [],
   "source": [
    "class SimpleCenter: CallCenter() {\n",
    "    override val shiftManager = ShiftManager()\n",
    "}\n",
    "\n",
    "val sim = SimpleCenter()\n"
   ]
  },
  {
   "cell_type": "code",
   "execution_count": null,
   "metadata": {},
   "outputs": [],
   "source": [
    "sim.run(1000)"
   ]
  }
 ],
 "metadata": {
  "kernelspec": {
   "display_name": "Kotlin",
   "language": "kotlin",
   "name": "kotlin"
  },
  "language_info": {
   "codemirror_mode": "text/x-kotlin",
   "file_extension": ".kt",
   "mimetype": "text/x-kotlin",
   "name": "kotlin",
   "nbconvert_exporter": "",
   "pygments_lexer": "kotlin",
   "version": "1.6.20-dev-6372"
  }
 },
 "nbformat": 4,
 "nbformat_minor": 4
}