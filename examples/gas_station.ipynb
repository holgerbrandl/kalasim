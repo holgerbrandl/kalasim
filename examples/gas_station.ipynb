{
 "cells": [
  {
   "cell_type": "markdown",
   "metadata": {
    "pycharm": {
     "name": "#%% md\n"
    }
   },
   "source": [
    "# Gas Station\n",
    "\n",
    "This example models a gas station and cars that arrive at the station for refueling.\n",
    "\n",
    "Covers:\n",
    "\n",
    "* [Depletable Resources](../resource.md#)\n",
    "* Process Interaction, in particular [waiting](../component.md#wait) for other processes\n",
    "\n",
    "The gas station has a limited number of fuel pumps, and a fuel tank that is shared between the fuel pumps. The gas pumps are modeled as `Resource`. The shared fuel tank is modeled with a `DepletableResource`.\n",
    "\n",
    "![Vintage Gas Pump](Vintage_Gas_Pump_Unsplash.jpg){: .center}\n",
    "\n",
    "<p align=\"center\">\n",
    "<i><a href=\"https://commons.wikimedia.org/wiki/File:Vintage_Gas_Pump_(Unsplash).jpg\">Vintage Gas Pump</a>, (CCO 1.0)</i>\n",
    "</p>\n",
    "\n",
    "\n",
    "Vehicles arriving at the gas station first request a fuel pump from the station. Once they acquire one, they try to take the desired amount of fuel from the fuel pump. They leave when they are done.\n",
    "\n",
    "The gas stations fuel level is regularly monitored by gas station control. When the level drops below a certain threshold, a tank truck is called to refuel the gas station itself.\n",
    "\n",
    "\n",
    "The example is a true classic and its implementation below was adopted from [salabim](https://github.com/salabim/salabim/blob/master/sample%20models/Gas%20station.py)'s and [SimPy](https://simpy.readthedocs.io/en/2.3.1/examples/gas_station_refuel.html)'s gas stations."
   ]
  },
  {
   "cell_type": "markdown",
   "metadata": {},
   "source": [
    "To begin with, we declare required dependencies. Only kalasim (for obvious reasons) and [kravis](https://github.com/holgerbrandl/kravis) (for visualization) are needed here."
   ]
  },
  {
   "cell_type": "code",
   "execution_count": 1,
   "metadata": {},
   "outputs": [],
   "source": [
    "@file:Repository(\"*mavenLocal\")\n",
    "//@file:DependsOn(\"com.github.holgerbrandl:kalasim:0.7-SNAPSHOT\")\n",
    "\n",
    "// TODO Update to v0.8\n",
    "@file:DependsOn(\"com.github.holgerbrandl:kalasim:0.7.90-SNAPSHOT\")\n",
    "@file:DependsOn(\"com.github.holgerbrandl:kravis:0.8.1\")"
   ]
  },
  {
   "cell_type": "markdown",
   "metadata": {},
   "source": [
    "Next, we import required classes."
   ]
  },
  {
   "cell_type": "code",
   "execution_count": 2,
   "metadata": {
    "pycharm": {
     "name": "#%%\n"
    }
   },
   "outputs": [],
   "source": [
    "import org.kalasim.*\n",
    "import org.kalasim.monitors.printHistogram\n",
    "import org.koin.core.component.inject\n",
    "import org.koin.core.qualifier.named"
   ]
  },
  {
   "cell_type": "markdown",
   "metadata": {},
   "source": [
    "Define configuration and constants to be use in simulation model are grouped into a dedicated section."
   ]
  },
  {
   "cell_type": "code",
   "execution_count": 3,
   "metadata": {
    "pycharm": {
     "name": "#%%\n"
    }
   },
   "outputs": [],
   "source": [
    "val GAS_STATION_SIZE = 200.0  // liters\n",
    "val THRESHOLD = 25.0  // Threshold for calling the tank truck (in %)\n",
    "val FUEL_TANK_SIZE = 50.0  // liters\n",
    "val FUEL_TANK_LEVEL_RANGE = 5.. 25\n",
    "val REFUELING_SPEED = 2.0  // liters / second\n",
    "val TANK_TRUCK_TIME = 300.0  // Seconds it takes the tank truck to arrive\n",
    "val INTER_ARRIVAL_TIME_RANGE = 10..100  // Create a car every [min, max] seconds\n",
    "val SIM_TIME = 20000.0  // Simulation time in seconds\n"
   ]
  },
  {
   "cell_type": "markdown",
   "metadata": {},
   "source": [
    "Now, we implement the domain model by detailing out the [lifecycle processes](../component.md#process-definition) of the cars and the gasoline trucks."
   ]
  },
  {
   "cell_type": "code",
   "execution_count": 4,
   "metadata": {
    "pycharm": {
     "name": "#%%\n"
    }
   },
   "outputs": [],
   "source": [
    "val FUEL_TANK = \"fuel_pump\"\n",
    "\n",
    "/** Arrives at the gas station after a certain delay and refuels it.*/\n",
    "class TankTruck : Component() {\n",
    "    val fuelPump: DepletableResource by inject(qualifier = named(FUEL_TANK))\n",
    "\n",
    "    val unloaded = State(false)\n",
    "\n",
    "    override fun process() = sequence {\n",
    "        hold(TANK_TRUCK_TIME)\n",
    "\n",
    "        // fill but cap when tank is full\n",
    "//        put(fuelPump, quantity = GAS_STATION_SIZE, capacityLimitMode = CapacityLimitMode.CAP)\n",
    "\n",
    "        // same effect, but different approach is to refill the missing quantity\n",
    "        put(fuelPump, quantity = fuelPump.capacity - fuelPump.level)\n",
    "        unloaded.value = true\n",
    "    }\n",
    "}\n",
    "\n",
    "/** A car arrives at the gas station for refueling.\n",
    "*\n",
    "* It requests one of the gas station's fuel pumps and tries to get the\n",
    "* desired amount of gas from it. If the stations reservoir is\n",
    "* depleted, the car has to wait for the tank truck to arrive.\n",
    "*/\n",
    "class Car(\n",
    "    val tankSize: Double = FUEL_TANK_SIZE,\n",
    ") : Component() {\n",
    "\n",
    "    // Sample an initial level\n",
    "    val fuelTankLevel = discreteUniform(FUEL_TANK_LEVEL_RANGE)()\n",
    "\n",
    "    // Resolve dependencies\n",
    "    val fuelPump = get<Resource>()\n",
    "    val stationTank: DepletableResource by inject(qualifier = named(FUEL_TANK))\n",
    "\n",
    "    override fun process() = sequence {\n",
    "        request(fuelPump, description = \"waiting for free pump\") {\n",
    "            val litersRequired = tankSize - fuelTankLevel\n",
    "\n",
    "            take(stationTank, quantity = litersRequired)\n",
    "            hold(litersRequired / REFUELING_SPEED)\n",
    "            println(\"finished $name\")\n",
    "        }\n",
    "    }\n",
    "}\n"
   ]
  },
  {
   "cell_type": "markdown",
   "metadata": {},
   "source": [
    "To conclude the implementation, we bind domain entities into simulation environment. To do so we add a [component generator](../component.md#component-generator) to provide new customers, and a anonymous component to realize a control process that will order a new tank-trunk if the station starts running low on gasoline supply."
   ]
  },
  {
   "cell_type": "code",
   "execution_count": 5,
   "metadata": {
    "pycharm": {
     "name": "#%%\n"
    }
   },
   "outputs": [
    {
     "name": "stderr",
     "output_type": "stream",
     "text": [
      "Back-end (JVM) Internal error: Failed to generate expression: KtNameReferenceExpression\n",
      "File being compiled: (2,45) in Line_6.jupyter-kts\n",
      "The root cause java.lang.UnsupportedOperationException was thrown at: org.jetbrains.kotlin.codegen.context.ConstructorContext.getOuterExpression(ConstructorContext.java:65)"
     ]
    }
   ],
   "source": [
    "class GasStation : Environment(false) {\n",
    "    val tank = dependency(qualifier = named(FUEL_TANK)) { DepletableResource(FUEL_TANK, GAS_STATION_SIZE) }\n",
    "\n",
    "    val fuelPumps = dependency { Resource(capacity = 2) }\n",
    "\n",
    "    init {\n",
    "        // Generate new cars that arrive at the gas station.\n",
    "        ComponentGenerator(iat = with(INTER_ARRIVAL_TIME_RANGE) { uniform(first, last) }) { Car() }\n",
    "\n",
    "        //Periodically check the level of the *fuel_pump* and call the tank truck if the level falls below a threshold.\n",
    "        object : Component(\"gas_station_control\") {\n",
    "            override fun repeatedProcess() = sequence {\n",
    "                // Order a new truck if the fuel-pump runs of out fuel\n",
    "                if(tank.level / tank.capacity * 100 < THRESHOLD) {\n",
    "                    log(\"Running out of fuel (remaining ${tank.level}). Ordering new fuel truck...\")\n",
    "                    wait(TankTruck().unloaded, true)\n",
    "                }\n",
    "\n",
    "                hold(10) // check every 10 seconds\n",
    "            }\n",
    "        }\n",
    "    }\n",
    "}"
   ]
  },
  {
   "cell_type": "markdown",
   "metadata": {
    "pycharm": {
     "name": "#%% md\n"
    }
   },
   "source": [
    "**Note: This is currently broken until https://github.com/Kotlin/kotlin-jupyter/issues/126 becomes fixed.**\n",
    "\n",
    "Here,  we use both lazy injection with `inject<T>()` and instance retrieval with `get<T>()`. For details see [koin reference](https://doc.insert-koin.io/#/koin-core/injection-parameters)\n"
   ]
  },
  {
   "cell_type": "markdown",
   "metadata": {},
   "source": [
    "Let's run the simulation"
   ]
  },
  {
   "cell_type": "code",
   "execution_count": 6,
   "metadata": {
    "pycharm": {
     "name": "#%%\n"
    }
   },
   "outputs": [
    {
     "name": "stderr",
     "output_type": "stream",
     "text": [
      "Line_6$GasStation\r\n",
      "java.lang.NoClassDefFoundError: Line_6$GasStation\r\n",
      "\tat Line_7.<init>(Line_7.jupyter-kts:1)\r\n",
      "\tat java.base/jdk.internal.reflect.NativeConstructorAccessorImpl.newInstance0(Native Method)\r\n",
      "\tat java.base/jdk.internal.reflect.NativeConstructorAccessorImpl.newInstance(NativeConstructorAccessorImpl.java:62)\r\n",
      "\tat java.base/jdk.internal.reflect.DelegatingConstructorAccessorImpl.newInstance(DelegatingConstructorAccessorImpl.java:45)\r\n",
      "\tat java.base/java.lang.reflect.Constructor.newInstance(Constructor.java:490)\r\n",
      "\tat kotlin.script.experimental.jvm.BasicJvmScriptEvaluator.evalWithConfigAndOtherScriptsResults(BasicJvmScriptEvaluator.kt:100)\r\n",
      "\tat kotlin.script.experimental.jvm.BasicJvmScriptEvaluator.invoke$suspendImpl(BasicJvmScriptEvaluator.kt:47)\r\n",
      "\tat kotlin.script.experimental.jvm.BasicJvmScriptEvaluator.invoke(BasicJvmScriptEvaluator.kt)\r\n",
      "\tat kotlin.script.experimental.jvm.BasicJvmReplEvaluator.eval(BasicJvmReplEvaluator.kt:49)\r\n",
      "\tat org.jetbrains.kotlinx.jupyter.repl.impl.InternalEvaluatorImpl$eval$resultWithDiagnostics$1.invokeSuspend(InternalEvaluatorImpl.kt:99)\r\n",
      "\tat kotlin.coroutines.jvm.internal.BaseContinuationImpl.resumeWith(ContinuationImpl.kt:33)\r\n",
      "\tat kotlinx.coroutines.DispatchedTask.run(DispatchedTask.kt:106)\r\n",
      "\tat kotlinx.coroutines.EventLoopImplBase.processNextEvent(EventLoop.common.kt:274)\r\n",
      "\tat kotlinx.coroutines.BlockingCoroutine.joinBlocking(Builders.kt:85)\r\n",
      "\tat kotlinx.coroutines.BuildersKt__BuildersKt.runBlocking(Builders.kt:59)\r\n",
      "\tat kotlinx.coroutines.BuildersKt.runBlocking(Unknown Source)\r\n",
      "\tat kotlinx.coroutines.BuildersKt__BuildersKt.runBlocking$default(Builders.kt:38)\r\n",
      "\tat kotlinx.coroutines.BuildersKt.runBlocking$default(Unknown Source)\r\n",
      "\tat org.jetbrains.kotlinx.jupyter.repl.impl.InternalEvaluatorImpl.eval(InternalEvaluatorImpl.kt:99)\r\n",
      "\tat org.jetbrains.kotlinx.jupyter.repl.impl.CellExecutorImpl$execute$1$result$1.invoke(CellExecutorImpl.kt:64)\r\n",
      "\tat org.jetbrains.kotlinx.jupyter.repl.impl.CellExecutorImpl$execute$1$result$1.invoke(CellExecutorImpl.kt:63)\r\n",
      "\tat org.jetbrains.kotlinx.jupyter.ReplForJupyterImpl.withHost(repl.kt:603)\r\n",
      "\tat org.jetbrains.kotlinx.jupyter.repl.impl.CellExecutorImpl.execute(CellExecutorImpl.kt:63)\r\n",
      "\tat org.jetbrains.kotlinx.jupyter.repl.CellExecutor$DefaultImpls.execute$default(CellExecutor.kt:13)\r\n",
      "\tat org.jetbrains.kotlinx.jupyter.ReplForJupyterImpl$evalEx$1.invoke(repl.kt:423)\r\n",
      "\tat org.jetbrains.kotlinx.jupyter.ReplForJupyterImpl$evalEx$1.invoke(repl.kt:412)\r\n",
      "\tat org.jetbrains.kotlinx.jupyter.ReplForJupyterImpl.withEvalContext(repl.kt:376)\r\n",
      "\tat org.jetbrains.kotlinx.jupyter.ReplForJupyterImpl.evalEx(repl.kt:412)\r\n",
      "\tat org.jetbrains.kotlinx.jupyter.ReplForJupyterImpl.eval(repl.kt:460)\r\n",
      "\tat org.jetbrains.kotlinx.jupyter.ProtocolKt$shellMessagesHandler$res$1.invoke(protocol.kt:291)\r\n",
      "\tat org.jetbrains.kotlinx.jupyter.ProtocolKt$shellMessagesHandler$res$1.invoke(protocol.kt:290)\r\n",
      "\tat org.jetbrains.kotlinx.jupyter.JupyterConnection$runExecution$execThread$1.invoke(connection.kt:166)\r\n",
      "\tat org.jetbrains.kotlinx.jupyter.JupyterConnection$runExecution$execThread$1.invoke(connection.kt:164)\r\n",
      "\tat kotlin.concurrent.ThreadsKt$thread$thread$1.run(Thread.kt:30)\r\n"
     ]
    }
   ],
   "source": [
    "val gasStation = GasStation()\n",
    "\n",
    "gasStation.run(SIM_TIME)"
   ]
  },
  {
   "cell_type": "markdown",
   "source": [
    "Analyze the dynamics of the model\n"
   ],
   "metadata": {
    "collapsed": false
   }
  },
  {
   "cell_type": "code",
   "execution_count": 6,
   "metadata": {
    "pycharm": {
     "name": "#%%\n"
    }
   },
   "outputs": [
    {
     "name": "stderr",
     "output_type": "stream",
     "text": [
      "Line_7.jupyter-kts (7:12 - 22) Unresolved reference: gasStation"
     ]
    }
   ],
   "source": [
    "// or accessor\n",
    "val tank = gasStation.tank\n",
    "\n",
    "// print some stats\n",
    "tank.levelTimeline.printHistogram()\n",
    "\n",
    "tank.levelTimeline.display().show()"
   ]
  },
  {
   "cell_type": "markdown",
   "metadata": {},
   "source": [
    "Also inspect if the gas station is equipped with enough gas pumps to serve customers"
   ]
  },
  {
   "cell_type": "code",
   "execution_count": 8,
   "metadata": {
    "pycharm": {
     "name": "#%%\n"
    }
   },
   "outputs": [
    {
     "name": "stderr",
     "output_type": "stream",
     "text": [
      "Line_9.jupyter-kts (1:1 - 11) Unresolved reference: gasStation"
     ]
    }
   ],
   "source": [
    "gasStation.fuelPumps.claimedTimeline.display()"
   ]
  },
  {
   "cell_type": "markdown",
   "metadata": {
    "pycharm": {
     "name": "#%% md\n"
    }
   },
   "source": [
    "## Conclusion\n",
    "\n",
    "In this example we have explored how a [depletable resource](../resource.md#depletable-resources) can be consumed by multipler clients."
   ]
  }
 ],
 "metadata": {
  "kernelspec": {
   "display_name": "Kotlin",
   "language": "kotlin",
   "name": "kotlin"
  },
  "language_info": {
   "codemirror_mode": "text/x-kotlin",
   "file_extension": ".kt",
   "mimetype": "text/x-kotlin",
   "name": "kotlin",
   "nbconvert_exporter": "",
   "pygments_lexer": "kotlin",
   "version": "1.6.20-dev-6372"
  },
  "pycharm": {
   "revision": "efb328ba-b7d6-43f5-a876-f89bab4a0aee"
  }
 },
 "nbformat": 4,
 "nbformat_minor": 1
}