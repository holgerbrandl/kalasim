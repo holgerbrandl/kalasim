{
 "cells": [
  {
   "cell_type": "code",
   "execution_count": 7,
   "outputs": [
    {
     "data": {
      "text/plain": "Cotta"
     },
     "execution_count": 7,
     "metadata": {},
     "output_type": "execute_result"
    }
   ],
   "source": [
    "examples.Quarter.Cotta"
   ],
   "metadata": {
    "collapsed": false
   }
  },
  {
   "cell_type": "code",
   "execution_count": 9,
   "outputs": [
    {
     "data": {
      "text/html": "            <div id=\"kotlin_out_0\"/>\n            <script type=\"text/javascript\">\n                            if(!window.kotlinQueues) {\n                window.kotlinQueues = {};\n            }\n            if(!window.kotlinQueues[\"DataFrame\"]) {\n                var resQueue = [];\n                window.kotlinQueues[\"DataFrame\"] = resQueue;\n                window[\"call_DataFrame\"] = function(f) {\n                    resQueue.push(f);\n                }\n            }\n            (function (){\n                var modifiers = [(function(script) {\n    script.src = \"https://cdn.jsdelivr.net/gh/Kotlin/dataframe@d6467c1389bc031958acd5310fce39167b5cc581/src/main/resources/init.js\"\n    script.type = \"text/javascript\";\n})];\n                var e = document.getElementById(\"kotlin_out_0\");\n                modifiers.forEach(function (gen) {\n                    var script = document.createElement(\"script\");\n                    gen(script)\n                    script.addEventListener(\"load\", function() {\n                        window[\"call_DataFrame\"] = function(f) {f();};\n                        window.kotlinQueues[\"DataFrame\"].forEach(function(f) {f();});\n                        window.kotlinQueues[\"DataFrame\"] = [];\n                    }, false);\n                    script.addEventListener(\"error\", function() {\n                        window[\"call_DataFrame\"] = function(f) {};\n                        window.kotlinQueues[\"DataFrame\"] = [];\n                        var div = document.createElement(\"div\");\n                        div.style.color = 'darkred';\n                        div.textContent = 'Error loading resource DataFrame';\n                        document.getElementById(\"kotlin_out_0\").appendChild(div);\n                    }, false);\n                    \n                    e.appendChild(script);\n                });\n            })();\n            </script>"
     },
     "metadata": {},
     "output_type": "display_data"
    },
    {
     "data": {
      "text/html": "                <style>\n                :root {\n    --background: #fff;\n    --background-odd: #f5f5f5;\n    --background-hover: #d9edfd;\n    --header-text-color: #474747;\n    --text-color: #848484;\n    --text-color-dark: #000;\n    --text-color-medium: #737373;\n    --text-color-pale: #b3b3b3;\n    --inner-border-color: #aaa;\n    --bold-border-color: #000;\n    --link-color: #296eaa;\n    --link-color-pale: #296eaa;\n    --link-hover: #1a466c;\n}\n\n:root[theme=\"dark\"], :root [data-jp-theme-light=\"false\"]{\n    --background: #303030;\n    --background-odd: #3c3c3c;\n    --background-hover: #464646;\n    --header-text-color: #dddddd;\n    --text-color: #b3b3b3;\n    --text-color-dark: #dddddd;\n    --text-color-medium: #b2b2b2;\n    --text-color-pale: #737373;\n    --inner-border-color: #707070;\n    --bold-border-color: #777777;\n    --link-color: #008dc0;\n    --link-color-pale: #97e1fb;\n    --link-hover: #00688e;\n}\n\ntable.dataframe {\n    font-family: \"Helvetica Neue\", Helvetica, Arial, sans-serif;\n    font-size: 12px;\n    background-color: var(--background);\n    color: var(--text-color-dark);\n    border: none;\n    border-collapse: collapse;\n}\n\ntable.dataframe th, td {\n    padding: 6px;\n    border: 1px solid transparent;\n    text-align: left;\n}\n\ntable.dataframe th {\n    background-color: var(--background);\n    color: var(--header-text-color);\n}\n\ntable.dataframe td {\n    vertical-align: top;\n}\n\ntable.dataframe th.bottomBorder {\n    border-bottom-color: var(--bold-border-color);\n}\n\ntable.dataframe tbody > tr:nth-child(odd) {\n    background: var(--background-odd);\n}\n\ntable.dataframe tbody > tr:nth-child(even) {\n    background: var(--background);\n}\n\ntable.dataframe tbody > tr:hover {\n    background: var(--background-hover);\n}\n\ntable.dataframe a {\n    cursor: pointer;\n    color: var(--link-color);\n    text-decoration: none;\n}\n\ntable.dataframe tr:hover > td a {\n    color: var(--link-color-pale);\n}\n\ntable.dataframe a:hover {\n    color: var(--link-hover);\n    text-decoration: underline;\n}\n\ntable.dataframe img {\n    max-width: fit-content;\n}\n\ntable.dataframe th.complex {\n    background-color: var(--background);\n    border: 1px solid var(--background);\n}\n\ntable.dataframe .leftBorder {\n    border-left-color: var(--inner-border-color);\n}\n\ntable.dataframe .rightBorder {\n    border-right-color: var(--inner-border-color);\n}\n\ntable.dataframe .rightAlign {\n    text-align: right;\n}\n\ntable.dataframe .expanderSvg {\n    width: 8px;\n    height: 8px;\n    margin-right: 3px;\n}\n\ntable.dataframe .expander {\n    display: flex;\n    align-items: center;\n}\n\n/* formatting */\n\ntable.dataframe .null {\n    color: var(--text-color-pale);\n}\n\ntable.dataframe .structural {\n    color: var(--text-color-medium);\n    font-weight: bold;\n}\n\ntable.dataframe .dataFrameCaption {\n    font-weight: bold;\n}\n\ntable.dataframe .numbers {\n    color: var(--text-color-dark);\n}\n\ntable.dataframe td:hover .formatted .structural, .null {\n    color: var(--text-color-dark);\n}\n\ntable.dataframe tr:hover .formatted .structural, .null {\n    color: var(--text-color-dark);\n}\n\n\n                </style>"
     },
     "metadata": {},
     "output_type": "display_data"
    }
   ],
   "source": [
    "@file:DependsOn(\"com.github.holgerbrandl:kalasim:0.9-SNAPSHOT\")"
   ],
   "metadata": {
    "collapsed": false
   }
  },
  {
   "cell_type": "code",
   "execution_count": 10,
   "metadata": {
    "collapsed": true
   },
   "outputs": [],
   "source": [
    "\n",
    "import org.kalasim.*\n",
    "import examples.*\n",
    "import examples.TaxiStatus.*\n",
    "import org.kalasim.*\n",
    "import java.awt.Point\n",
    "import kotlin.math.absoluteValue\n",
    "import kotlin.time.Duration.Companion.days\n",
    "import kotlin.time.Duration.Companion.hours\n",
    "import kotlin.time.Duration.Companion.minutes"
   ]
  },
  {
   "cell_type": "code",
   "execution_count": 11,
   "outputs": [
    {
     "name": "stderr",
     "output_type": "stream",
     "text": [
      "Line_14.jupyter-kts (4:1 - 17) Cannot access class 'org.kalasim.Environment'. Check your module classpath for missing or conflicting dependencies\n",
      "Line_14.jupyter-kts (7:13 - 23) Variable 'dispatcher' is never used\n",
      "Line_14.jupyter-kts (7:26 - 36) Cannot access class 'org.kalasim.Environment'. Check your module classpath for missing or conflicting dependencies\n",
      "Line_14.jupyter-kts (9:13 - 18) Variable 'delay' is never used\n",
      "Line_14.jupyter-kts (9:21 - 28) Unresolved reference. None of the following candidates is applicable because of receiver type mismatch: \n",
      "public fun SimContext.uniform(lower: Number = ..., upper: Number = ...): UniformRealDistribution defined in org.kalasim\n",
      "Line_14.jupyter-kts (11:9 - 27) Cannot access class 'org.kalasim.TickTime'. Check your module classpath for missing or conflicting dependencies\n",
      "Line_14.jupyter-kts (11:9 - 27) Cannot access class 'org.kalasim.Priority'. Check your module classpath for missing or conflicting dependencies\n",
      "Line_14.jupyter-kts (11:28 - 35) Unresolved reference. None of the following candidates is applicable because of receiver type mismatch: \n",
      "public fun SimContext.uniform(lower: Number = ..., upper: Number = ...): UniformRealDistribution defined in org.kalasim\n",
      "Line_14.jupyter-kts (15:13 - 18) Cannot access class 'org.kalasim.TickTime'. Check your module classpath for missing or conflicting dependencies\n",
      "Line_14.jupyter-kts (15:43 - 46) Unresolved reference: env\n",
      "Line_14.jupyter-kts (18:9 - 12) Cannot access class 'org.kalasim.Environment'. Check your module classpath for missing or conflicting dependencies\n",
      "Line_14.jupyter-kts (18:13 - 19) Type mismatch: inferred type is Duration but TypeVariable(T).() -> TypeVariable(R) was expected"
     ]
    }
   ],
   "source": [
    "\n",
    "createSimulation(enableComponentLogger = true) {\n",
    "        val taxis = List(10) { Taxi() }\n",
    "\n",
    "        val dispatcher = dependency<Dispatcher> { FifoDispatcher(taxis) }\n",
    "\n",
    "        val delay = uniform(0, 60).minutes\n",
    "\n",
    "        ComponentGenerator(uniform(0, 3)) {\n",
    "            val departure = Quarter.values().random()\n",
    "            val destination = Quarter.values().asList().minusElement(departure).random()\n",
    "\n",
    "            Order(departure, destination, env.now + delay())\n",
    "        }\n",
    "\n",
    "        run(2.days)\n",
    "        println(\"sim completed\")\n",
    "    }"
   ],
   "metadata": {
    "collapsed": false
   }
  },
  {
   "cell_type": "code",
   "execution_count": null,
   "outputs": [],
   "source": [],
   "metadata": {
    "collapsed": false
   }
  }
 ],
 "metadata": {
  "kernelspec": {
   "display_name": "Kotlin",
   "language": "kotlin",
   "name": "kotlin"
  },
  "language_info": {
   "name": "kotlin",
   "version": "1.8.0-dev-3517",
   "mimetype": "text/x-kotlin",
   "file_extension": ".kt",
   "pygments_lexer": "kotlin",
   "codemirror_mode": "text/x-kotlin",
   "nbconvert_exporter": ""
  }
 },
 "nbformat": 4,
 "nbformat_minor": 0
}
